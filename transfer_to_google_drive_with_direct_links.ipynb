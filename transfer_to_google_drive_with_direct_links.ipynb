{
  "nbformat": 4,
  "nbformat_minor": 0,
  "metadata": {
    "colab": {
      "name": "transfer to google drive with direct links.ipynb",
      "provenance": []
    },
    "kernelspec": {
      "name": "python3",
      "display_name": "Python 3"
    }
  },
  "cells": [
    {
      "cell_type": "markdown",
      "metadata": {
        "id": "WYVEeS6_nqZx"
      },
      "source": [
        "# **<font color='White'> Any file to Google Drive - Shared by [mayhemongithub](https://github.com/mayhemongithub) </font>**"
      ]
    },
    {
      "cell_type": "markdown",
      "metadata": {
        "id": "TDyk4SnauRnw"
      },
      "source": [
        "##__Mount GDrive to /content/drive__ Using Google Drive File Stream"
      ]
    },
    {
      "cell_type": "code",
      "metadata": {
        "colab": {
          "base_uri": "https://localhost:8080/"
        },
        "id": "no52Wsfj_9cE",
        "cellView": "form",
        "outputId": "28b5de2b-2d97-4c31-8819-1f9cce2eca8a"
      },
      "source": [
        "#@markdown <br><center><img src='https://upload.wikimedia.org/wikipedia/commons/thumb/d/da/Google_Drive_logo.png/600px-Google_Drive_logo.png' height=\"50\" alt=\"Gdrive-logo\"/></center>\r\n",
        "#@markdown <center><h3>Mount GDrive to /content/drive</h3></center><br>\r\n",
        "MODE = \"MOUNT\" #@param [\"MOUNT\", \"UNMOUNT\"]\r\n",
        "#Mount your Gdrive! \r\n",
        "from google.colab import drive\r\n",
        "drive.mount._DEBUG = False\r\n",
        "if MODE == \"MOUNT\":\r\n",
        "  drive.mount('/content/drive', force_remount=True)\r\n",
        "elif MODE == \"UNMOUNT\":\r\n",
        "  try:\r\n",
        "    drive.flush_and_unmount()\r\n",
        "  except ValueError:\r\n",
        "    pass\r\n",
        "  get_ipython().system_raw(\"rm -rf /root/.config/Google/DriveFS\")\r\n"
      ],
      "execution_count": null,
      "outputs": [
        {
          "output_type": "stream",
          "text": [
            "Mounted at /content/gdrive\n"
          ],
          "name": "stdout"
        }
      ]
    },
    {
      "cell_type": "code",
      "metadata": {
        "id": "5L-5WuSGBRYn",
        "cellView": "form"
      },
      "source": [
        "import sys, os, urllib.request\r\n",
        "import time\r\n",
        "import subprocess\r\n",
        "import contextlib\r\n",
        "from IPython.display import clear_output\r\n",
        "import requests \r\n",
        "#@markdown <br><p align='center'>\r\n",
        "#@markdown      <img src='https://upload.wikimedia.org/wikipedia/commons/e/ee/Chain_link_icon.png' height=\"40\" alt=\"Direct Link Pic\"/></center>\r\n",
        "#@markdown      <img src='https://img.icons8.com/plasticine/2x/arrow.png' height=\"50\" alt=\"Right Arrow Pic\"/></center>\r\n",
        "#@markdown      <img src='https://upload.wikimedia.org/wikipedia/commons/thumb/d/da/Google_Drive_logo.png/600px-Google_Drive_logo.png' height=\"50\" alt=\"GDrive-logo\"/></center>\r\n",
        "#@markdown </p>\r\n",
        "#@markdown <center><h2>Transfer from Direct Link to GDrive</h2></center><br>\r\n",
        "FILE_URL = \"\" #@param {type:\"string\"}\r\n",
        "OUTPUT_PATH = \"\" #@param {type:\"string\"}\r\n",
        "EXTENSION_OF_THE_FILE_TO_BE_DOWNLOADED = \"\" #@param {type:\"string\"}\r\n",
        "NAME_OF_THE_FILE_TO_BE_DOWNLOADED = \"\" #@param {type:\"string\"}\r\n",
        "if not OUTPUT_PATH:\r\n",
        "  os.makedirs(\"downloads\", exist_ok=True)\r\n",
        "  OUTPUT_PATH = \"downloads\"\r\n",
        "\r\n",
        "if not NAME_OF_THE_FILE_TO_BE_DOWNLOADED:\r\n",
        "  os.makedirs(\"file\", exist_ok=True)\r\n",
        "  NAME_OF_THE_FILE_TO_BE_DOWNLOADED = \"file\"\r\n",
        "\r\n",
        "if not EXTENSION_OF_THE_FILE_TO_BE_DOWNLOADED:\r\n",
        "  os.makedirs(\"file\", exist_ok=True)\r\n",
        "  EXTENSION_OF_THE_FILE_TO_BE_DOWNLOADED = \"file\"\r\n",
        "\r\n",
        "r = requests.get(FILE_URL, stream = True) \r\n",
        "\r\n",
        "with open(OUTPUT_PATH+\"/\"+NAME_OF_THE_FILE_TO_BE_DOWNLOADED+\".\"+EXTENSION_OF_THE_FILE_TO_BE_DOWNLOADED, \"wb\") as file: \r\n",
        "\tfor block in r.iter_content(chunk_size = 1024): \r\n",
        "\t\tif block: \r\n",
        "\t\t\tfile.write(block) \r\n",
        "\r\n"
      ],
      "execution_count": null,
      "outputs": []
    },
    {
      "cell_type": "markdown",
      "metadata": {
        "id": "-UOdp4-5u1GS"
      },
      "source": [
        "If you want to customise this copy of colab notebook more, fork this project from the repo on Github: \r\n",
        "<a href=\"https://github.com/mayhemongithub/Transfer-To-Google-Drive-via-direct-links\">Transfer To Google Drive via direct links</a>"
      ]
    }
  ]
}